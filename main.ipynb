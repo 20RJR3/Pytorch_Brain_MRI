{
 "cells": [
  {
   "cell_type": "code",
   "execution_count": 34,
   "metadata": {
    "id": "_wSTdgpQ_Qvs"
   },
   "outputs": [],
   "source": [
    "import torch\n",
    "import torch.nn as nn\n",
    "import torch.nn.functional as F\n",
    "from torch.utils.data import DataLoader, TensorDataset\n",
    "import numpy as np\n",
    "import matplotlib.pyplot as plt\n",
    "import pandas as pd\n",
    "import cv2\n",
    "import os"
   ]
  },
  {
   "cell_type": "code",
   "execution_count": 35,
   "metadata": {
    "id": "Q9pYtwHsTZxB"
   },
   "outputs": [],
   "source": [
    "img_no = []\n",
    "\n",
    "for file in os.listdir('brain_tumor_dataset/no'):\n",
    "    file = cv2.imread(f'brain_tumor_dataset/no/{file}')\n",
    "    file = file[:, :, 0]\n",
    "    file = cv2.resize(file, (100, 100))\n",
    "    img_no.append(file)\n",
    "\n",
    "img_no = torch.tensor(img_no, dtype=torch.float64).view(98, 1, 100, 100)"
   ]
  },
  {
   "cell_type": "code",
   "execution_count": 37,
   "metadata": {
    "id": "sI6QQn6kX2PV"
   },
   "outputs": [],
   "source": [
    "img_yes = []\n",
    "\n",
    "for file in os.listdir('brain_tumor_dataset/yes'):\n",
    "    file = cv2.imread(f'brain_tumor_dataset/yes/{file}')\n",
    "    file = file[:, :, 0]\n",
    "    file = cv2.resize(file, (100, 100))\n",
    "    img_yes.append(file)\n",
    "\n",
    "img_yes = torch.tensor(img_yes, dtype=torch.float64).view(155, 1, 100, 100)"
   ]
  },
  {
   "cell_type": "code",
   "execution_count": 39,
   "metadata": {
    "id": "uCauUrXJd7Mm"
   },
   "outputs": [],
   "source": [
    "test_size = 20\n",
    "\n",
    "img_yes_test = img_yes[-test_size:, :, :, :]\n",
    "img_yes_train = img_yes[:-test_size, :, :, :]\n",
    "\n",
    "img_no_test = img_no[-test_size:, :, :, :]\n",
    "img_no_train = img_no[:-test_size, :, :, :]"
   ]
  },
  {
   "cell_type": "code",
   "execution_count": 40,
   "metadata": {
    "colab": {
     "base_uri": "https://localhost:8080/",
     "height": 50
    },
    "executionInfo": {
     "elapsed": 509,
     "status": "ok",
     "timestamp": 1591023821165,
     "user": {
      "displayName": "Ryan Robinson",
      "photoUrl": "https://lh3.googleusercontent.com/a-/AOh14GgqmakyCU7DO5uvtCywAzh0O8UTd2ORMbxHbk86AQ=s64",
      "userId": "16992805079701577272"
     },
     "user_tz": 240
    },
    "id": "npiB5EK8jW-W",
    "outputId": "775e10a6-2c62-4b42-d2ed-7ed362acb4a1"
   },
   "outputs": [
    {
     "name": "stdout",
     "output_type": "stream",
     "text": [
      "train shape: torch.Size([213, 1, 100, 100])\n",
      "test shape: torch.Size([40, 1, 100, 100])\n"
     ]
    }
   ],
   "source": [
    "x_train = torch.cat((img_yes_train, img_no_train))\n",
    "x_test = torch.cat((img_yes_test, img_no_test))\n",
    "\n",
    "print(f'train shape: {x_train.shape}')\n",
    "print(f'test shape: {x_test.shape}')"
   ]
  },
  {
   "cell_type": "code",
   "execution_count": 41,
   "metadata": {
    "id": "wLEVzA3REgQK"
   },
   "outputs": [],
   "source": [
    "y_train = []\n",
    "\n",
    "for i in range(213):\n",
    "    if i < 135:\n",
    "        y_train.append(1)\n",
    "    else:\n",
    "        y_train.append(0)\n",
    "\n",
    "y_train = torch.tensor(y_train, dtype=torch.int64)"
   ]
  },
  {
   "cell_type": "code",
   "execution_count": 42,
   "metadata": {
    "id": "GdyYUJ0TFQUm"
   },
   "outputs": [],
   "source": [
    "y_test = []\n",
    "\n",
    "for i in range(40):\n",
    "    if i < 20:\n",
    "        y_test.append(1)\n",
    "    else:\n",
    "        y_test.append(0)\n",
    "\n",
    "y_test = torch.tensor(y_test, dtype=torch.int64)"
   ]
  },
  {
   "cell_type": "code",
   "execution_count": 43,
   "metadata": {
    "colab": {
     "base_uri": "https://localhost:8080/",
     "height": 50
    },
    "executionInfo": {
     "elapsed": 409,
     "status": "ok",
     "timestamp": 1591023861472,
     "user": {
      "displayName": "Ryan Robinson",
      "photoUrl": "https://lh3.googleusercontent.com/a-/AOh14GgqmakyCU7DO5uvtCywAzh0O8UTd2ORMbxHbk86AQ=s64",
      "userId": "16992805079701577272"
     },
     "user_tz": 240
    },
    "id": "6iYQOhHbGHFV",
    "outputId": "cef9885c-b799-4df8-f9e9-749ab72862a2"
   },
   "outputs": [
    {
     "name": "stdout",
     "output_type": "stream",
     "text": [
      "y train shape: torch.Size([213])\n",
      "y test shape: torch.Size([40])\n"
     ]
    }
   ],
   "source": [
    "print(f'y train shape: {y_train.shape}')\n",
    "print(f'y test shape: {y_test.shape}')"
   ]
  },
  {
   "cell_type": "markdown",
   "metadata": {
    "id": "DwCzeH4eGlX8"
   },
   "source": [
    "## Nerual Network\n"
   ]
  },
  {
   "cell_type": "code",
   "execution_count": 50,
   "metadata": {
    "id": "6t_7-PSuGhQ1"
   },
   "outputs": [],
   "source": [
    "class Net(nn.Module):\n",
    "\n",
    "    def __init__(self):\n",
    "        #this inherits stuff from the pytorch nn class\n",
    "        super(Net, self).__init__()\n",
    "\n",
    "        #image in size = (100, 100)\n",
    "        self.conv1 = nn.Conv2d(1, 10, 10, stride=2)\n",
    "        self.conv1_drop = nn.Dropout2d(0.1)\n",
    "        #image size = (23, 23)\n",
    "        self.conv2 = nn.Conv2d(10, 20, 3)\n",
    "        #image size = (11, 11)\n",
    "        self.conv3 = nn.Conv2d(20, 30, 3)\n",
    "        #image size(4, 4)\n",
    "        self.lin1 = nn.Linear(480, 50)\n",
    "        self.lin1_drop = nn.Dropout(0.1)\n",
    "        self.lin2 = nn.Linear(50, 2)\n",
    "\n",
    "    def forward(self, x):\n",
    "        x = (x / 255).float()\n",
    "        x = F.max_pool2d(F.relu(self.conv1_drop(self.conv1(x))), 2)\n",
    "        x = F.max_pool2d(F.relu(self.conv2(x)), 2)\n",
    "        x = F.max_pool2d(F.relu(self.conv3(x)), 2)\n",
    "        x = x.view(-1, 480)\n",
    "        x = self.lin1_drop(self.lin1(x))\n",
    "        x = self.lin2(x)\n",
    "\n",
    "        return x"
   ]
  },
  {
   "cell_type": "code",
   "execution_count": 51,
   "metadata": {
    "id": "UeYR6zI9KkX3"
   },
   "outputs": [],
   "source": [
    "model = Net()\n",
    "opt = torch.optim.SGD(model.parameters(), lr=0.04, momentum=0.7)"
   ]
  },
  {
   "cell_type": "code",
   "execution_count": 52,
   "metadata": {
    "id": "HWqiNe2eLv_w"
   },
   "outputs": [],
   "source": [
    "train_ds = TensorDataset(x_train, y_train)\n",
    "train_dl = DataLoader(train_ds, 64, shuffle=True)\n",
    "\n",
    "test_ds = TensorDataset(x_test, y_test)\n",
    "test_dl = DataLoader(test_ds, 40)"
   ]
  },
  {
   "cell_type": "code",
   "execution_count": 53,
   "metadata": {
    "id": "baXOIEbfPne7"
   },
   "outputs": [],
   "source": [
    "def fit(model, opt, train_dl, test_dl, epochs):\n",
    "    for epoch in range(epochs):\n",
    "        model.train()\n",
    "        batch_num = 0\n",
    "        train_loss = 0.0\n",
    "        for xb, yb in train_dl:\n",
    "            batch_num += 1\n",
    "            loss = F.cross_entropy(model.forward(xb), yb)\n",
    "            train_loss += loss.item()\n",
    "\n",
    "            loss.backward()\n",
    "            opt.step()\n",
    "            opt.zero_grad()\n",
    "\n",
    "            model.eval()\n",
    "            with torch.no_grad():\n",
    "                test_losses = [F.cross_entropy(model.forward(xb), yb) for xb, yb in test_dl]\n",
    "                test_loss = sum(test_losses) / len(test_losses)\n",
    "        if (epoch + 1) % 5 == 0:\n",
    "            print(f\"epoch: {epoch + 1} ======> training loss: {round(float(train_loss / batch_num), 3)}   test loss: {round(float(test_loss), 3)}\")     "
   ]
  },
  {
   "cell_type": "code",
   "execution_count": 48,
   "metadata": {
    "colab": {
     "base_uri": "https://localhost:8080/",
     "height": 162
    },
    "executionInfo": {
     "elapsed": 583,
     "status": "error",
     "timestamp": 1591891767067,
     "user": {
      "displayName": "Ryan Robinson",
      "photoUrl": "https://lh3.googleusercontent.com/a-/AOh14GgqmakyCU7DO5uvtCywAzh0O8UTd2ORMbxHbk86AQ=s64",
      "userId": "16992805079701577272"
     },
     "user_tz": 240
    },
    "id": "VTHmCjHPQNE6",
    "outputId": "0cb29aef-286f-43f5-9e06-3f263d4faea4"
   },
   "outputs": [
    {
     "name": "stdout",
     "output_type": "stream",
     "text": [
      "epoch: 5 ======> training loss: 0.656   test loss: 0.739\n",
      "epoch: 10 ======> training loss: 0.637   test loss: 0.751\n",
      "epoch: 15 ======> training loss: 0.613   test loss: 0.708\n",
      "epoch: 20 ======> training loss: 0.65   test loss: 0.71\n",
      "epoch: 25 ======> training loss: 0.564   test loss: 0.63\n",
      "epoch: 30 ======> training loss: 0.533   test loss: 0.631\n",
      "epoch: 35 ======> training loss: 0.475   test loss: 0.616\n",
      "epoch: 40 ======> training loss: 0.489   test loss: 0.671\n",
      "epoch: 45 ======> training loss: 0.447   test loss: 0.644\n",
      "epoch: 50 ======> training loss: 0.394   test loss: 0.638\n",
      "epoch: 55 ======> training loss: 0.435   test loss: 0.704\n",
      "epoch: 60 ======> training loss: 0.377   test loss: 0.664\n"
     ]
    }
   ],
   "source": [
    "fit(model, opt, train_dl, test_dl, 60)"
   ]
  },
  {
   "cell_type": "code",
   "execution_count": 54,
   "metadata": {
    "colab": {
     "base_uri": "https://localhost:8080/",
     "height": 50
    },
    "executionInfo": {
     "elapsed": 509,
     "status": "ok",
     "timestamp": 1591023911894,
     "user": {
      "displayName": "Ryan Robinson",
      "photoUrl": "https://lh3.googleusercontent.com/a-/AOh14GgqmakyCU7DO5uvtCywAzh0O8UTd2ORMbxHbk86AQ=s64",
      "userId": "16992805079701577272"
     },
     "user_tz": 240
    },
    "id": "GhnLHHuIR8fN",
    "outputId": "f86b05df-0227-4ac9-a788-d4c302a11242"
   },
   "outputs": [
    {
     "name": "stdout",
     "output_type": "stream",
     "text": [
      "test accuracy:\n",
      "0.5\n"
     ]
    }
   ],
   "source": [
    "acc = 0\n",
    "predictions = model.forward(x_test)\n",
    "\n",
    "print('test accuracy:')\n",
    "for i in range(len(y_test)):\n",
    "    if torch.argmax(predictions[i]) == y_test[i]:\n",
    "        acc += 1\n",
    "\n",
    "print(acc / len(y_test))"
   ]
  },
  {
   "cell_type": "code",
   "execution_count": 28,
   "metadata": {
    "id": "xUAb3Eglbd00"
   },
   "outputs": [],
   "source": [
    "torch.save(model.state_dict(), 'brain_tumor_dataset/Model')"
   ]
  },
  {
   "cell_type": "code",
   "execution_count": 29,
   "metadata": {
    "colab": {
     "base_uri": "https://localhost:8080/",
     "height": 168
    },
    "executionInfo": {
     "elapsed": 932,
     "status": "ok",
     "timestamp": 1591023908472,
     "user": {
      "displayName": "Ryan Robinson",
      "photoUrl": "https://lh3.googleusercontent.com/a-/AOh14GgqmakyCU7DO5uvtCywAzh0O8UTd2ORMbxHbk86AQ=s64",
      "userId": "16992805079701577272"
     },
     "user_tz": 240
    },
    "id": "VKRjpLyoordA",
    "outputId": "e06e7893-24ee-4644-f681-ac587574ea6b"
   },
   "outputs": [
    {
     "data": {
      "text/plain": [
       "Net(\n",
       "  (conv1): Conv2d(1, 10, kernel_size=(10, 10), stride=(2, 2))\n",
       "  (conv1_drop): Dropout2d(p=0.3, inplace=False)\n",
       "  (conv2): Conv2d(10, 20, kernel_size=(3, 3), stride=(1, 1))\n",
       "  (conv3): Conv2d(20, 30, kernel_size=(3, 3), stride=(1, 1))\n",
       "  (lin1): Linear(in_features=480, out_features=50, bias=True)\n",
       "  (lin1_drop): Dropout(p=0.2, inplace=False)\n",
       "  (lin2): Linear(in_features=50, out_features=2, bias=True)\n",
       ")"
      ]
     },
     "execution_count": 29,
     "metadata": {},
     "output_type": "execute_result"
    }
   ],
   "source": [
    "model = Net()\n",
    "model.load_state_dict(torch.load('brain_tumor_dataset/Model'))\n",
    "\n",
    "model.eval()"
   ]
  },
  {
   "cell_type": "code",
   "execution_count": 33,
   "metadata": {
    "colab": {
     "base_uri": "https://localhost:8080/",
     "height": 302
    },
    "executionInfo": {
     "elapsed": 618,
     "status": "ok",
     "timestamp": 1591025059236,
     "user": {
      "displayName": "Ryan Robinson",
      "photoUrl": "https://lh3.googleusercontent.com/a-/AOh14GgqmakyCU7DO5uvtCywAzh0O8UTd2ORMbxHbk86AQ=s64",
      "userId": "16992805079701577272"
     },
     "user_tz": 240
    },
    "id": "ZcGpE0hLo__p",
    "outputId": "18911085-9e99-43a9-8e49-9a928edf1629"
   },
   "outputs": [
    {
     "name": "stdout",
     "output_type": "stream",
     "text": [
      "label:      1\n",
      "prediction: 1\n"
     ]
    },
    {
     "data": {
      "image/png": "[encoded data removed]",
      "text/plain": [
       "<Figure size 640x480 with 1 Axes>"
      ]
     },
     "metadata": {},
     "output_type": "display_data"
    }
   ],
   "source": [
    "x = 18\n",
    "\n",
    "pred = predictions[x]\n",
    "label = y_test[x]\n",
    "\n",
    "print(f'label:      {label}')\n",
    "print(f'prediction: {torch.argmax(pred)}')\n",
    "\n",
    "plt.imshow(x_test[x][0])\n",
    "plt.show()"
   ]
  },
  {
   "cell_type": "code",
   "execution_count": null,
   "metadata": {
    "id": "aA9TpE_qpyAm"
   },
   "outputs": [],
   "source": []
  }
 ],
 "metadata": {
  "colab": {
   "collapsed_sections": [],
   "name": "Brain MRI Pytorch",
   "provenance": []
  },
  "kernelspec": {
   "display_name": "Python 3 (ipykernel)",
   "language": "python",
   "name": "python3"
  },
  "language_info": {
   "codemirror_mode": {
    "name": "ipython",
    "version": 3
   },
   "file_extension": ".py",
   "mimetype": "text/x-python",
   "name": "python",
   "nbconvert_exporter": "python",
   "pygments_lexer": "ipython3",
   "version": "3.10.9"
  }
 },
 "nbformat": 4,
 "nbformat_minor": 1
}
